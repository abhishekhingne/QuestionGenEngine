{
 "cells": [
  {
   "cell_type": "code",
   "execution_count": 1,
   "id": "aa402737-30b0-4e32-91a1-50dcdf22582b",
   "metadata": {},
   "outputs": [],
   "source": [
    "#Importing the python dependencies\n",
    "from langchain_community.llms import Ollama\n",
    "from langchain.prompts import PromptTemplate\n",
    "from langchain_core.output_parsers import JsonOutputParser\n",
    "from typing_extensions import TypedDict\n",
    "from typing import List\n",
    "from langchain.schema import Document\n",
    "from langgraph.graph import END, StateGraph"
   ]
  },
  {
   "cell_type": "code",
   "execution_count": 2,
   "id": "2514b018-d14b-476b-8970-21e9979a88dd",
   "metadata": {},
   "outputs": [],
   "source": [
    "url = \"https://37d8-35-247-124-124.ngrok-free.app\""
   ]
  },
  {
   "cell_type": "code",
   "execution_count": 3,
   "id": "0548bfb1-4b27-4c81-a57c-4e0664826cac",
   "metadata": {},
   "outputs": [],
   "source": [
    "llm = Ollama(base_url=url, model=\"llama3\", temperature=0.3)"
   ]
  },
  {
   "cell_type": "markdown",
   "id": "324f40bd-c2c7-4c42-ac6b-e6a1a582e8cb",
   "metadata": {},
   "source": [
    "## Approach 1 ##"
   ]
  },
  {
   "cell_type": "markdown",
   "id": "947601e4-dbec-41ea-aa88-4077881ac573",
   "metadata": {},
   "source": []
  },
  {
   "cell_type": "code",
   "execution_count": 4,
   "id": "9590fa66-8dbf-444d-9736-63485f014dee",
   "metadata": {},
   "outputs": [],
   "source": [
    "def survey_question_generation(manager_role, goal, llm):\n",
    "    prompt = PromptTemplate(\n",
    "        template=\"\"\"<|begin_of_text|><|start_header_id|>system<|end_header_id|> You are an expert survey designer.\n",
    "        Your manager wants to achieve a certain goal in order to do that you've to come up with a list of atleast 10 survey questions that will\n",
    "        help him achieve the goal. \n",
    "        List of questions should be in json format. Format for each json of a question should be fixed as below\n",
    "        question: Survey Question\n",
    "        type: Whether it is multiple_choice or open_text\n",
    "        options: List of options for multiple_choice questions\n",
    "        <|eot_id|><|start_header_id|>user<|end_header_id|>\n",
    "        Goal: {goal} \n",
    "        Manager Role: {manager_role} \n",
    "        Answer: <|eot_id|><|start_header_id|>assistant<|end_header_id|>\"\"\",\n",
    "        input_variables=[\"goal\", \"manager_role\"],\n",
    "    )\n",
    "    chain = prompt | llm | JsonOutputParser()\n",
    "    result = chain.invoke({\"goal\": goal, \"manager_role\": manager_role})\n",
    "    return result"
   ]
  },
  {
   "cell_type": "code",
   "execution_count": 5,
   "id": "e4e826d1-ff37-49a8-91d1-7293dccfc8e0",
   "metadata": {},
   "outputs": [],
   "source": [
    "goal = \"Conduct a quarterly survey of 100 financial services decision-makers to create sales content.\"\n",
    "manager_role = \"Salesforce B2B Sales Representative\"\n",
    "result = survey_question_generation(manager_role, goal, llm)"
   ]
  },
  {
   "cell_type": "code",
   "execution_count": 6,
   "id": "e2259093-2f92-4874-a20b-c08052c992c5",
   "metadata": {},
   "outputs": [
    {
     "data": {
      "text/plain": [
       "[{'question': 'What is your current role?',\n",
       "  'type': 'multiple_choice',\n",
       "  'options': ['Sales Representative',\n",
       "   'Marketing Manager',\n",
       "   'Financial Advisor',\n",
       "   'Other (please specify)']},\n",
       " {'question': 'How often do you make purchasing decisions for financial services products?',\n",
       "  'type': 'multiple_choice',\n",
       "  'options': ['Daily', 'Weekly', 'Monthly', 'Quarterly', 'Rarely']},\n",
       " {'question': 'What is your primary source of information when researching financial services products?',\n",
       "  'type': 'open_text'},\n",
       " {'question': 'How important are the following factors when evaluating a financial services product: (Select all that apply)',\n",
       "  'type': 'multiple_choice',\n",
       "  'options': ['Cost',\n",
       "   'Features and Benefits',\n",
       "   'Brand Reputation',\n",
       "   'Customer Support',\n",
       "   'Other (please specify)']},\n",
       " {'question': 'What is your preferred method of communication with sales representatives?',\n",
       "  'type': 'multiple_choice',\n",
       "  'options': ['Phone',\n",
       "   'Email',\n",
       "   'In-Person Meeting',\n",
       "   'Online Chat',\n",
       "   'Other (please specify)']},\n",
       " {'question': 'How would you rate the overall quality of our current sales content?',\n",
       "  'type': 'rating_scale',\n",
       "  'options': ['1-3', '4-6', '7-9', '10']},\n",
       " {'question': 'What types of content are most valuable to you when evaluating financial services products?',\n",
       "  'type': 'multiple_choice',\n",
       "  'options': ['Case Studies',\n",
       "   'Whitepapers',\n",
       "   'Webinars',\n",
       "   'Infographics',\n",
       "   'Other (please specify)']},\n",
       " {'question': 'How often do you engage with sales representatives from our company?',\n",
       "  'type': 'frequency_scale',\n",
       "  'options': ['Daily', 'Weekly', 'Monthly', 'Quarterly', 'Rarely']},\n",
       " {'question': 'What is the primary reason you would consider purchasing a financial services product from our company?',\n",
       "  'type': 'open_text'},\n",
       " {'question': \"How likely are you to recommend our company's sales content to others in your industry?\",\n",
       "  'type': 'rating_scale',\n",
       "  'options': ['1-3', '4-6', '7-9', '10']},\n",
       " {'question': 'Do you have any suggestions for improving our sales content?',\n",
       "  'type': 'open_text'}]"
      ]
     },
     "execution_count": 6,
     "metadata": {},
     "output_type": "execute_result"
    }
   ],
   "source": [
    "result"
   ]
  },
  {
   "cell_type": "code",
   "execution_count": 7,
   "id": "f110ad80-a337-4716-9827-f69a4aa4328b",
   "metadata": {},
   "outputs": [],
   "source": [
    "## Approach 2 ##"
   ]
  },
  {
   "cell_type": "code",
   "execution_count": null,
   "id": "a9f933d8-0151-46ff-843d-367e94cb65d1",
   "metadata": {},
   "outputs": [],
   "source": []
  },
  {
   "cell_type": "code",
   "execution_count": 8,
   "id": "9f60e5da-5452-4f73-9cf9-9b9c25bd951c",
   "metadata": {},
   "outputs": [],
   "source": [
    "class QuestionGenEngine:\n",
    "    def __init__(self, llm_url):\n",
    "        self.llm = Ollama(base_url=url, model=\"llama3\", temperature=0.3)\n",
    "        self.workflow = None\n",
    "        self.question_gen_prompt_template = PromptTemplate(\n",
    "                template=\"\"\"<|begin_of_text|><|start_header_id|>system<|end_header_id|> You are an expert survey designer.\n",
    "                Your manager wants to achieve a certain goal in order to do that you've to come up with a list of atleast 10 survey questions that will\n",
    "                help him achieve the goal. \n",
    "                List of questions should be in json format. Format for each json of a question should be fixed as below\n",
    "                question: Survey Question\n",
    "                type: Whether it is multiple_choice or open_text\n",
    "                options: List of options for multiple_choice questions\n",
    "                <|eot_id|><|start_header_id|>user<|end_header_id|>\n",
    "                Goal: {goal} \n",
    "                Manager Role: {manager_role} \n",
    "                Answer: <|eot_id|><|start_header_id|>assistant<|end_header_id|>\"\"\",\n",
    "                input_variables=[\"goal\", \"manager_role\"],)\n",
    "        self.question_gen_prompt_chain = self.question_gen_prompt_template | self.llm | JsonOutputParser()\n",
    "        \n",
    "        self.grader_prompt = PromptTemplate(\n",
    "            template=\"\"\"<|begin_of_text|><|start_header_id|>system<|end_header_id|> You are a grader assessing whether \n",
    "            your colleague has generated a relevant survey question related to a goal. \n",
    "            Give a binary score 'yes' or 'no' to indicate whether the answer is \n",
    "            useful to resolve a question. Provide the binary score as a JSON with a key 'score' and explaination with a key 'explaination'.\n",
    "            <|eot_id|><|start_header_id|>user<|end_header_id|> Here is the goal and manger role:\n",
    "            \\n ------- \\n\n",
    "            Goal: {goal}\n",
    "            Manager Role: {manager_role}\n",
    "            \\n ------- \\n\n",
    "            Here is the generated survey question: {question} <|eot_id|><|start_header_id|>assistant<|end_header_id|>\"\"\",\n",
    "            input_variables=[\"goal\", \"manger_role\", \"question\"],\n",
    "        )\n",
    "        self.grader_chain = self.grader_prompt | self.llm | JsonOutputParser()\n",
    "\n",
    "    # Define State\n",
    "    class GraphState(TypedDict):\n",
    "        \"\"\"\n",
    "        Represents the state of our graph.\n",
    "\n",
    "        Attributes:\n",
    "            question: question\n",
    "            generation: LLM generation\n",
    "            documents: list of documents \n",
    "        \"\"\"\n",
    "        goal : str\n",
    "        manager_role: str\n",
    "        question : List[str]\n",
    "\n",
    "    def generate(self, state):\n",
    "        print(\"---GENERATE---\")\n",
    "        goal = state[\"goal\"]\n",
    "        manager_role = state[\"manager_role\"]\n",
    "        \n",
    "        question = self.question_gen_prompt_chain.invoke({\"goal\": goal, \"manager_role\": manager_role})\n",
    "        print(question)\n",
    "        return {\"goal\": goal, \"manager_role\": manager_role, \"question\": question}\n",
    "\n",
    "    def grade_question(self, state):\n",
    "        print(\"---CHECK QUESTION RELEVANCE TO GOAL---\")\n",
    "        goal = state[\"goal\"]\n",
    "        manager_role = state[\"manager_role\"]\n",
    "        questions = state[\"question\"]\n",
    "        \n",
    "        # Score each question\n",
    "        filtered_question = []\n",
    "        for q in questions:\n",
    "            score = self.grader_chain.invoke({\"goal\": goal, \"manager_role\": manager_role, \"question\": q})\n",
    "            grade = score['score']\n",
    "            # Question relevant\n",
    "            if grade.lower() == \"yes\":\n",
    "                print(\"---GRADE: QUESTION RELEVANT---\")\n",
    "                q[\"explaination\"] = score[\"explaination\"]\n",
    "                filtered_question.append(q)\n",
    "            # Question not relevant\n",
    "            else:\n",
    "                print(\"---GRADE: QUESTION NOT RELEVANT---\")\n",
    "                continue\n",
    "        question = filtered_question\n",
    "        return {\"goal\": goal, \"manager_role\": manager_role, \"question\": question}\n",
    "\n",
    "    def add_nodes(self):\n",
    "        self.workflow = StateGraph(self.GraphState)\n",
    "\n",
    "        # Define the nodes\n",
    "        self.workflow.add_node(\"generate\", self.generate) # generatae\n",
    "        self.workflow.add_node(\"grade_question\", self.grade_question) # grade question\n",
    "\n",
    "    def build_graph(self):\n",
    "        self.add_nodes()\n",
    "        self.workflow.set_entry_point(\"generate\")\n",
    "        self.workflow.add_edge(\"generate\", \"grade_question\")\n",
    "        self.workflow.add_edge(\"grade_question\", END)\n",
    "  \n",
    "        app = self.workflow.compile()\n",
    "        return app\n",
    "\n",
    "    def execute_graph(self, goal, manager_role):\n",
    "        inputs = {\"goal\": goal, \"manager_role\": manager_role}\n",
    "        app = self.build_graph()\n",
    "        for output in app.stream(inputs):\n",
    "            for key, value in output.items():\n",
    "                # Node\n",
    "                print(f\"Node '{key}':\")\n",
    "                # Optional: print full state at each node\n",
    "                # pprint.pprint(value[\"keys\"], indent=2, width=80, depth=None)\n",
    "            print(\"\\n---\\n\")\n",
    "        return value"
   ]
  },
  {
   "cell_type": "code",
   "execution_count": 9,
   "id": "7e8b9034-0b78-4b1f-a45e-73221312d525",
   "metadata": {},
   "outputs": [],
   "source": [
    "question_gen = QuestionGenEngine(url)"
   ]
  },
  {
   "cell_type": "code",
   "execution_count": 10,
   "id": "96ad7058-09b8-4603-b904-a05d8e190f0e",
   "metadata": {},
   "outputs": [],
   "source": [
    "goal = \"Conduct a quarterly survey of 100 financial services decision-makers to create sales content.\"\n",
    "manager_role = \"Salesforce B2B Sales Representative\""
   ]
  },
  {
   "cell_type": "code",
   "execution_count": 11,
   "id": "219f95c7-534a-4e18-8cda-d0bb262fa71e",
   "metadata": {},
   "outputs": [
    {
     "name": "stdout",
     "output_type": "stream",
     "text": [
      "---GENERATE---\n",
      "[{'question': 'What is your current role?', 'type': 'multiple_choice', 'options': ['Sales Representative', 'Financial Advisor', 'Investment Manager', 'Other (please specify)']}, {'question': 'How often do you make purchasing decisions for financial services?', 'type': 'multiple_choice', 'options': ['Daily', 'Weekly', 'Monthly', 'Quarterly', 'Rarely']}, {'question': 'What is the primary factor that influences your purchasing decisions for financial services?', 'type': 'open_text'}, {'question': 'How do you currently stay informed about new financial services and products?', 'type': 'multiple_choice', 'options': ['Industry publications', 'Social media', 'Colleagues and peers', 'Online webinars and conferences', 'Other (please specify)']}, {'question': 'What type of content would you like to see more of from financial services providers?', 'type': 'open_text'}, {'question': 'How important is it for you that a financial services provider has a strong online presence?', 'type': 'multiple_choice', 'options': ['Very important', 'Somewhat important', 'Not very important', 'Not at all important']}, {'question': 'What are the top three challenges you face when evaluating financial services providers?', 'type': 'open_text'}, {'question': 'How likely are you to recommend a financial services provider to a colleague or peer?', 'type': 'multiple_choice', 'options': ['Very likely', 'Somewhat likely', 'Not very likely', 'Not at all likely']}, {'question': 'What is the primary reason you would recommend a financial services provider to someone else?', 'type': 'open_text'}, {'question': 'How often do you attend industry events or conferences related to financial services?', 'type': 'multiple_choice', 'options': ['Monthly', 'Quarterly', 'Annually', 'Rarely', 'Never']}, {'question': 'What type of thought leadership content would you like to see from financial services providers (e.g. whitepapers, case studies, webinars)?', 'type': 'open_text'}]\n",
      "Node 'generate':\n",
      "\n",
      "---\n",
      "\n",
      "---CHECK QUESTION RELEVANCE TO GOAL---\n",
      "---GRADE: QUESTION RELEVANT---\n",
      "---GRADE: QUESTION RELEVANT---\n",
      "---GRADE: QUESTION RELEVANT---\n",
      "---GRADE: QUESTION RELEVANT---\n",
      "---GRADE: QUESTION NOT RELEVANT---\n",
      "---GRADE: QUESTION RELEVANT---\n",
      "---GRADE: QUESTION RELEVANT---\n",
      "---GRADE: QUESTION RELEVANT---\n",
      "---GRADE: QUESTION RELEVANT---\n",
      "---GRADE: QUESTION RELEVANT---\n",
      "---GRADE: QUESTION RELEVANT---\n",
      "Node 'grade_question':\n",
      "\n",
      "---\n",
      "\n"
     ]
    }
   ],
   "source": [
    "result = question_gen.execute_graph(goal, manager_role)"
   ]
  },
  {
   "cell_type": "code",
   "execution_count": 12,
   "id": "be77ce6d-746e-4e27-a618-5d5e9896667d",
   "metadata": {},
   "outputs": [
    {
     "data": {
      "text/plain": [
       "{'goal': 'Conduct a quarterly survey of 100 financial services decision-makers to create sales content.',\n",
       " 'manager_role': 'Salesforce B2B Sales Representative',\n",
       " 'question': [{'question': 'What is your current role?',\n",
       "   'type': 'multiple_choice',\n",
       "   'options': ['Sales Representative',\n",
       "    'Financial Advisor',\n",
       "    'Investment Manager',\n",
       "    'Other (please specify)'],\n",
       "   'explaination': \"The generated survey question is relevant to the goal of creating sales content for financial services decision-makers. The question 'What is your current role?' helps identify the target audience's job function, which can inform the type of sales content that would be most effective in resonating with them. As a Salesforce B2B Sales Representative, this information is crucial in understanding the needs and pain points of the potential customers.\"},\n",
       "  {'question': 'How often do you make purchasing decisions for financial services?',\n",
       "   'type': 'multiple_choice',\n",
       "   'options': ['Daily', 'Weekly', 'Monthly', 'Quarterly', 'Rarely'],\n",
       "   'explaination': \"The generated survey question is relevant to the goal of creating sales content for financial services. The question targets the decision-makers in the financial services industry, which aligns with the goal's focus on conducting a quarterly survey of 100 financial services decision-makers. The multiple-choice options also provide valuable insights into the frequency of purchasing decisions made by these decision-makers, which can inform the creation of targeted sales content.\"},\n",
       "  {'question': 'What is the primary factor that influences your purchasing decisions for financial services?',\n",
       "   'type': 'open_text',\n",
       "   'explaination': 'The generated survey question is relevant to the goal of creating sales content for financial services decision-makers. The question aims to understand what drives their purchasing decisions, which can help Salesforce B2B Sales Representatives tailor their sales approach and create targeted content that resonates with potential customers.'},\n",
       "  {'question': 'How do you currently stay informed about new financial services and products?',\n",
       "   'type': 'multiple_choice',\n",
       "   'options': ['Industry publications',\n",
       "    'Social media',\n",
       "    'Colleagues and peers',\n",
       "    'Online webinars and conferences',\n",
       "    'Other (please specify)'],\n",
       "   'explaination': 'The survey question is relevant to the goal of creating sales content for financial services decision-makers. The question aims to understand how these decision-makers currently stay informed about new financial services and products, which can help identify potential sources of information that may influence their purchasing decisions. This information can be used to create targeted sales content that resonates with them.'},\n",
       "  {'question': 'How important is it for you that a financial services provider has a strong online presence?',\n",
       "   'type': 'multiple_choice',\n",
       "   'options': ['Very important',\n",
       "    'Somewhat important',\n",
       "    'Not very important',\n",
       "    'Not at all important'],\n",
       "   'explaination': \"The survey question is relevant to the goal of creating sales content for financial services decision-makers. The question assesses the importance of a strong online presence, which is a crucial aspect of a financial services provider's overall marketing strategy and sales approach. As a Salesforce B2B Sales Representative, understanding the importance of this factor can help inform the development of effective sales content that resonates with potential customers.\"},\n",
       "  {'question': 'What are the top three challenges you face when evaluating financial services providers?',\n",
       "   'type': 'open_text',\n",
       "   'explaination': 'The generated survey question is highly relevant to the goal of creating sales content for a Salesforce B2B Sales Representative. By asking about the top challenges faced by financial services decision-makers, the survey aims to understand their pain points and concerns when evaluating providers. This information can be used to create targeted sales content that addresses these specific challenges, ultimately helping the sales representative to better connect with potential clients and drive sales.'},\n",
       "  {'question': 'How likely are you to recommend a financial services provider to a colleague or peer?',\n",
       "   'type': 'multiple_choice',\n",
       "   'options': ['Very likely',\n",
       "    'Somewhat likely',\n",
       "    'Not very likely',\n",
       "    'Not at all likely'],\n",
       "   'explaination': 'The survey question is relevant to the goal of creating sales content for financial services providers. The question assesses the likelihood of recommending a provider, which can help identify potential customers and inform sales strategies. This information can be used to create targeted sales content that resonates with decision-makers who are more likely to recommend a provider.'},\n",
       "  {'question': 'What is the primary reason you would recommend a financial services provider to someone else?',\n",
       "   'type': 'open_text',\n",
       "   'explaination': 'The generated survey question is relevant to the goal of creating sales content for financial services decision-makers. The question aims to understand the primary reason why respondents would recommend a financial services provider, which can provide valuable insights for Salesforce B2B Sales Representatives to create targeted and effective sales content. This information can help them tailor their messaging and approach to resonate with potential customers.'},\n",
       "  {'question': 'How often do you attend industry events or conferences related to financial services?',\n",
       "   'type': 'multiple_choice',\n",
       "   'options': ['Monthly', 'Quarterly', 'Annually', 'Rarely', 'Never'],\n",
       "   'explaination': \"The survey question is relevant to the goal of creating sales content for financial services decision-makers. The question helps to understand the frequency at which these decision-makers engage with industry events or conferences, which can provide valuable insights on their interests, pain points, and potential needs that can be addressed by the sales representative's sales content.\"},\n",
       "  {'question': 'What type of thought leadership content would you like to see from financial services providers (e.g. whitepapers, case studies, webinars)?',\n",
       "   'type': 'open_text',\n",
       "   'explaination': 'The generated survey question is relevant to the goal of creating sales content for financial services decision-makers as a Salesforce B2B Sales Representative. The question aims to gather information on the types of thought leadership content that would be valuable to this target audience, which can inform the creation of sales content that resonates with them.'}]}"
      ]
     },
     "execution_count": 12,
     "metadata": {},
     "output_type": "execute_result"
    }
   ],
   "source": [
    "result"
   ]
  },
  {
   "cell_type": "code",
   "execution_count": null,
   "id": "77adb8c6-88c0-4290-a4cd-b422dc4e06dd",
   "metadata": {},
   "outputs": [],
   "source": []
  }
 ],
 "metadata": {
  "kernelspec": {
   "display_name": "Python 3 (ipykernel)",
   "language": "python",
   "name": "python3"
  },
  "language_info": {
   "codemirror_mode": {
    "name": "ipython",
    "version": 3
   },
   "file_extension": ".py",
   "mimetype": "text/x-python",
   "name": "python",
   "nbconvert_exporter": "python",
   "pygments_lexer": "ipython3",
   "version": "3.11.9"
  }
 },
 "nbformat": 4,
 "nbformat_minor": 5
}
